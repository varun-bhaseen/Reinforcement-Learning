{
 "cells": [
  {
   "cell_type": "code",
   "execution_count": 8,
   "metadata": {},
   "outputs": [
    {
     "name": "stdout",
     "output_type": "stream",
     "text": [
      "Random!\n",
      "Reward got: 9.00\n"
     ]
    }
   ],
   "source": [
    "import gym\n",
    "from typing import TypeVar\n",
    "import random\n",
    "\n",
    "\"\"\"\n",
    "TypeVar: Type variable\n",
    "\n",
    "Type variables exist primarily for the benefit of static type checkers. They serve as \n",
    "the parameters for generic types as well as for generic function definitions. See class \n",
    "Generic for more information on generic types.\n",
    "\"\"\"\n",
    "\n",
    "Action = TypeVar('Action') # Action can be anything: string, list, boolean, dictionary, integer, float, tuple\n",
    "\n",
    "\n",
    "class RandomActionWrapper(gym.ActionWrapper):\n",
    "    \n",
    "    \"\"\"\n",
    "    Making class RandomActionWrapper which is a gym.ActionWrapper.\n",
    "        This class will inherit all functions, attributes from  gym.ActionWrapper class\n",
    "    \"\"\"\n",
    "    \n",
    "    \n",
    "    def __init__(self, env, epsilon=0.4):\n",
    "\n",
    "        \"\"\"\n",
    "        Here, we initialized our wrapper by calling a parent's __init__ method \n",
    "        and saving epsilon (the probability of a random action).\n",
    "        \"\"\"\n",
    "\n",
    "        super(RandomActionWrapper, self).__init__(env)\n",
    "        self.epsilon = epsilon\n",
    "\n",
    "    def action(self, action: Action) -> Action:\n",
    "        \n",
    "        \"\"\"\n",
    "        This is a method that we need to override from a parent's class to tweak \n",
    "        the agent's actions. Every time we roll the die, and with the probability \n",
    "        of epsilon, we sample a random action from the action space and return it \n",
    "        instead of the action the agent has sent to us. Note that using \n",
    "        action_space and wrapper abstractions, we were able to write abstract code, \n",
    "        which will work with any environment from Gym. Additionally, we must print \n",
    "        the message every time we replace the action, just to verify that our \n",
    "        wrapper is working.\n",
    "        \"\"\"\n",
    "        \n",
    "        if random.random() < self.epsilon:\n",
    "            print(\"Random!\")\n",
    "            return self.env.action_space.sample()\n",
    "        return action\n",
    "\n",
    "\n",
    "if __name__ == \"__main__\":\n",
    "    env = RandomActionWrapper(gym.make(\"CartPole-v0\"))\n",
    "    \n",
    "    \"\"\"\n",
    "    Now it's time to apply our wrapper. We will create a normal CartPole environment \n",
    "    and pass it to our Wrapper constructor. From here on, we will use our wrapper as \n",
    "    a normal Env instance, instead of the original CartPole. As the Wrapper class \n",
    "    inherits the Env class and exposes the same interface, we can nest our wrappers \n",
    "    in any combination we want\n",
    "    \"\"\"\n",
    "    \n",
    "    obs = env.reset()\n",
    "    total_reward = 0.0\n",
    "\n",
    "    while True:\n",
    "        obs, reward, done, _ = env.step(0)\n",
    "        total_reward += reward\n",
    "        if done:\n",
    "            break\n",
    "\n",
    "    print(\"Reward got: %.2f\" % total_reward)"
   ]
  },
  {
   "cell_type": "code",
   "execution_count": null,
   "metadata": {},
   "outputs": [],
   "source": []
  }
 ],
 "metadata": {
  "kernelspec": {
   "display_name": "Python 3",
   "language": "python",
   "name": "python3"
  },
  "language_info": {
   "codemirror_mode": {
    "name": "ipython",
    "version": 3
   },
   "file_extension": ".py",
   "mimetype": "text/x-python",
   "name": "python",
   "nbconvert_exporter": "python",
   "pygments_lexer": "ipython3",
   "version": "3.7.9"
  }
 },
 "nbformat": 4,
 "nbformat_minor": 4
}
